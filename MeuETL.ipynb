{
  "nbformat": 4,
  "nbformat_minor": 0,
  "metadata": {
    "colab": {
      "provenance": [],
      "authorship_tag": "ABX9TyOUUCJ62sA8U60obBuSHRHc",
      "include_colab_link": true
    },
    "kernelspec": {
      "name": "python3",
      "display_name": "Python 3"
    },
    "language_info": {
      "name": "python"
    }
  },
  "cells": [
    {
      "cell_type": "markdown",
      "metadata": {
        "id": "view-in-github",
        "colab_type": "text"
      },
      "source": [
        "<a href=\"https://colab.research.google.com/github/Emanoel-Ferreira-LS/trilha-python-dio/blob/main/MeuETL.ipynb\" target=\"_parent\"><img src=\"https://colab.research.google.com/assets/colab-badge.svg\" alt=\"Open In Colab\"/></a>"
      ]
    },
    {
      "cell_type": "markdown",
      "source": [
        "# Objetivo\n",
        "Usar uma planilha contendo um id, nome, area de atuação e uma coluna para uma mensagem de marketing personalizada para cada um dos usuários, convidado-os a inscrever-se no curso \"Construindo seu futuro\", com base nas sua area de atuação: engenharia, medicina, direito ou programação.\n",
        "\n"
      ],
      "metadata": {
        "id": "fwpS6kuyZURQ"
      }
    },
    {
      "cell_type": "markdown",
      "source": [
        "```\n",
        "# Arquivo 'areas_profissoes.csv' original\n",
        "\n",
        "userID,nome,area,mensagem\n",
        "1,Emanoel,programador,\n",
        "2,Alice,engenheiro,\n",
        "3,Tiago,medico,\n",
        "4,Pedro,advogado,\n",
        "5,João,programador,\n",
        "6,Marcos,engenheiro,\n",
        "7,Felipe,advogado,\n",
        "8,José,medico,\n",
        "9,Maria,advogado,\n",
        "10,Ana,programador,\n",
        "11,Luíza,engenheiro,\n",
        "12,Pedro,programador,\n",
        "13,André,advogado,\n",
        "14,Paulo,medico,\n",
        "15,Raquel,programador,\n",
        "16,Rebeca,advogado,\n",
        "17,Sara,engenheiro,\n",
        "18,Ester,programador,\n",
        "19,Joquebede,advogado,\n",
        "20,Mateus,engenheiro,\n",
        "21,Lucas,medico,\n",
        "```"
      ],
      "metadata": {
        "id": "qMLJNk63jtr-"
      }
    },
    {
      "cell_type": "markdown",
      "source": [
        "\n",
        "```\n",
        "# Mensagens geradas pelo ChatGPT-3 e incorporadas ao Pipeline:\n",
        "(A integração da api GPT-4 pode ser usada caso haja credito para tokens)\n",
        "\n",
        "  Engenharia:\n",
        "👷‍♂️🏗️ Construa o seu futuro com a Engenharia! Junte-se a nós para aprender as bases sólidas do sucesso na construção, inscrevendo-se hoje mesmo no curso 'Construindo seu futuro'! 🌟 #EngenhariaDoFuturo\n",
        "\n",
        "Medicina:\n",
        "👩‍⚕️🌡️ Cuide do seu futuro com a Medicina! Explore o incrível mundo da saúde e do bem-estar, inscrevendo-se agora mesmo no curso 'Construindo seu futuro'! 💉 #CuideDoSeuFuturo\n",
        "\n",
        "Direito:\n",
        "👨‍⚖️⚖️ Defina o seu futuro com o Direito! Descubra a justiça e a equidade em cada palavra da lei e inscreva-se no curso 'Construindo seu futuro' hoje mesmo! 📜 #DefinaSeuFuturo\n",
        "\n",
        "Programação:\n",
        "👩‍💻💡 Programe o seu futuro com a Programação! Transforme linhas de código em oportunidades ilimitadas, inscrevendo-se no curso 'Construindo seu futuro' agora mesmo! 🚀 #ProgrameSeuFuturo\n",
        "\n",
        "Junte-se a nós para criar um futuro brilhante em sua área de interesse. Inscreva-se no curso \"Construindo seu futuro\" e trilhe o caminho para o sucesso! 🎓🌟 #ConstruindoSeuFuturo\n",
        "```"
      ],
      "metadata": {
        "id": "84DIcvsXkDXx"
      }
    },
    {
      "cell_type": "markdown",
      "source": [
        "Essas mensagens são geradas no ChatGPT-3(que é gratuito), copiadas manualmente e adicionadas ao projeto dentro de variáveis.\n",
        "\n",
        "Esse processo poderia ser feito de forma automatica usando a API da OpenAi GPT-4 caso haja creditos para tokens:"
      ],
      "metadata": {
        "id": "7so9RSr1jUNv"
      }
    },
    {
      "cell_type": "code",
      "source": [
        "!pip install openai\n",
        "\n",
        "openai_api_key = 'SUA CHAVE' #Substitua por sua chave de acesso"
      ],
      "metadata": {
        "id": "6KoAsc7eZR94"
      },
      "execution_count": null,
      "outputs": []
    },
    {
      "cell_type": "code",
      "source": [
        "import openai\n",
        "\n",
        "openai.api_key = openai_api_key"
      ],
      "metadata": {
        "id": "SWr1o4bUfgDd"
      },
      "execution_count": null,
      "outputs": []
    },
    {
      "cell_type": "code",
      "source": [
        "#EXTRAÇÃO\n",
        "import pandas as pd\n",
        "\n",
        "df = pd.read_csv('areas_profissoes.csv')\n",
        "user_ids = df['userID'].tolist()\n",
        "user_nomes = df['nome'].tolist()\n",
        "user_area_profissoes = df['area'].tolist()\n",
        "mensagem = df['mensagem'].tolist()\n",
        "\n",
        "#TRANSFORMAÇÃO\n",
        "def gerar_mensagem_marketing(user, curso):\n",
        "  completion = openai.ChatCompletion.create(\n",
        "    model=\"gpt-4\",\n",
        "    messages=[\n",
        "      {\n",
        "          \"role\": \"system\",\n",
        "          \"content\": \"Você é um gerador de mensagens de marketing para o curso 'Construindo seu futuro'\"\n",
        "      },\n",
        "      {\n",
        "          \"role\": \"user\",\n",
        "          \"content\": f\"Crie uma mensagem de marketing para {user} para o curso de {curso}(seja criativo,objetivo,utilize emojis, maximo 100 palavras)\"\n",
        "      }\n",
        "    ]\n",
        "  )\n",
        "  return completion.choices[0].message.content.strip('\\\"')\n",
        "\n",
        "user = {}\n",
        "\n",
        "for id,nome,prof,msg in zip(user_ids,user_nomes,user_area_profissoes,mensagem):\n",
        "  user[id] = {\n",
        "        'nome': nome,\n",
        "        'profissao': prof,\n",
        "        'mensagem': \"\"\n",
        "    }\n",
        "\n",
        "for id, info in user.items():\n",
        "  info['mensagem'] = gerar_mensagem_marketing(info['nome'], info['profissao'])\n",
        "\n",
        "\n",
        "\n",
        "#LOAD(CARREGAMENTO)\n",
        "df['mensagem'] = df['userID'].map(user).apply(lambda x: x['mensagem'] if pd.notna(x) else '') #  Atualizando a coluna \"mensagem\" no df\n",
        "\n",
        "# Salvar as informações atualizadas do df em um novo arquivo\n",
        "df.to_csv('areas_profissoes_atualizado.csv', index=False)"
      ],
      "metadata": {
        "id": "GmNiZ0lEdGOp"
      },
      "execution_count": null,
      "outputs": []
    },
    {
      "cell_type": "markdown",
      "source": [
        "#FAZENDO MANUALMENTE\n",
        "______________________________________________"
      ],
      "metadata": {
        "id": "XkE3ZGTPi9pW"
      }
    },
    {
      "cell_type": "markdown",
      "source": [
        "# Extração\n",
        "Extraindo informações do arquivo .csv e armazenado-as em forma de lista"
      ],
      "metadata": {
        "id": "TsvijP2roGRH"
      }
    },
    {
      "cell_type": "code",
      "execution_count": 76,
      "metadata": {
        "id": "8GSVXr0VvSOz",
        "colab": {
          "base_uri": "https://localhost:8080/"
        },
        "outputId": "6d7272e2-75d3-40e8-adf9-f63e5cfa2a57"
      },
      "outputs": [
        {
          "output_type": "stream",
          "name": "stdout",
          "text": [
            "[1, 2, 3, 4, 5, 6, 7, 8, 9, 10, 11, 12, 13, 14, 15, 16, 17, 18, 19, 20, 21]\n",
            "['Emanoel', 'Alice', 'Tiago', 'Pedro', 'João', 'Marcos', 'Felipe', 'José', 'Maria', 'Ana', 'Luíza', 'Pedro', 'André', 'Paulo', 'Raquel', 'Rebeca', 'Sara', 'Ester', 'Joquebede', 'Mateus', 'Lucas']\n",
            "['programador', 'engenheiro', 'medico', 'advogado', 'programador', 'engenheiro', 'advogado', 'medico', 'advogado', 'programador', 'engenheiro', 'programador', 'advogado', 'medico', 'programador', 'advogado', 'engenheiro', 'programador', 'advogado', 'engenheiro', 'medico']\n",
            "[nan, nan, nan, nan, nan, nan, nan, nan, nan, nan, nan, nan, nan, nan, nan, nan, nan, nan, nan, nan, nan]\n"
          ]
        }
      ],
      "source": [
        "import pandas as pd\n",
        "\n",
        "df = pd.read_csv('areas_profissoes.csv')\n",
        "user_ids = df['userID'].tolist()\n",
        "user_nomes = df['nome'].tolist()\n",
        "user_area_profissoes = df['area'].tolist()\n",
        "mensagem = df['mensagem'].tolist()\n",
        "\n",
        "print(user_ids)\n",
        "print(user_nomes)\n",
        "print(user_area_profissoes)\n",
        "print(mensagem)"
      ]
    },
    {
      "cell_type": "markdown",
      "source": [
        "# Transformação\n",
        "Após a etapa de extração, as listas são colocadas dentro de um dicionário onde são feitas as verificações de area de atuação e com base nisso atribuida uma mensagem de marketing personalizada para a chave \"mensagem\" dentro do dicionário"
      ],
      "metadata": {
        "id": "vq5bPrz7vt0c"
      }
    },
    {
      "cell_type": "code",
      "source": [
        "mensagem_engenheiro = \"👷‍♂️🏗️ Construa o seu futuro com a Engenharia! Junte-se a nós para aprender as bases sólidas do sucesso na construção, se inscrevendo hoje mesmo no curso 'Construindo seu futuro'! 🌟 #EngenhariaDoFuturo\"\n",
        "mensagem_medico = \"👩‍⚕️🌡️ Cuide do seu futuro com a Medicina! Explore o incrível mundo da saúde e do bem-estar, inscrevendo-se agora mesmo no curso 'Construindo seu futuro'! 💉 #CuideDoSeuFuturo\"\n",
        "mensagem_advogado = \"👨‍⚖️⚖️ Defina o seu futuro com o Direito! Descubra a justiça e a equidade em cada palavra da lei e inscreva-se no curso 'Construindo seu futuro' hoje mesmo! 📜 #DefinaSeuFuturo\"\n",
        "mensagem_programer = \"👩‍💻💡 Programe o seu futuro com a Programação! Transforme linhas de código em oportunidades ilimitadas, inscrevendo-se no curso 'Construindo seu futuro' agora mesmo! 🚀 #ProgrameSeuFuturo\"\n",
        "\n",
        "user = {}\n",
        "\n",
        "for id,nome,prof,msg in zip(user_ids,user_nomes,user_area_profissoes,mensagem):\n",
        "  # print(id,nome,prof,msg, sep=\",\")\n",
        "  user[id] = {\n",
        "        'nome': nome,\n",
        "        'profissao': prof,\n",
        "        'mensagem': \"\"\n",
        "    }\n",
        "\n",
        "for id, info in user.items():\n",
        "    if info['profissao'] == 'engenheiro':\n",
        "        info['mensagem'] = mensagem_engenheiro\n",
        "    elif info['profissao'] == 'medico':\n",
        "        info['mensagem'] = mensagem_medico\n",
        "    elif info['profissao'] == 'advogado':\n",
        "        info['mensagem'] = mensagem_advogado\n",
        "    elif info['profissao'] == 'programador':\n",
        "        info['mensagem'] = mensagem_programer\n",
        "\n",
        "df = pd.read_csv('areas_profissoes.csv')\n",
        "\n",
        "print(user)"
      ],
      "metadata": {
        "colab": {
          "base_uri": "https://localhost:8080/"
        },
        "id": "3SyvO2JmvxgS",
        "outputId": "d388bd94-0ef0-44cf-caff-27133f856f02"
      },
      "execution_count": 77,
      "outputs": [
        {
          "output_type": "stream",
          "name": "stdout",
          "text": [
            "{1: {'nome': 'Emanoel', 'profissao': 'programador', 'mensagem': \"👩\\u200d💻💡 Programe o seu futuro com a Programação! Transforme linhas de código em oportunidades ilimitadas, inscrevendo-se no curso 'Construindo seu futuro' agora mesmo! 🚀 #ProgrameSeuFuturo\"}, 2: {'nome': 'Alice', 'profissao': 'engenheiro', 'mensagem': \"👷\\u200d♂️🏗️ Construa o seu futuro com a Engenharia! Junte-se a nós para aprender as bases sólidas do sucesso na construção, se inscrevendo hoje mesmo no curso 'Construindo seu futuro'! 🌟 #EngenhariaDoFuturo\"}, 3: {'nome': 'Tiago', 'profissao': 'medico', 'mensagem': \"👩\\u200d⚕️🌡️ Cuide do seu futuro com a Medicina! Explore o incrível mundo da saúde e do bem-estar, inscrevendo-se agora mesmo no curso 'Construindo seu futuro'! 💉 #CuideDoSeuFuturo\"}, 4: {'nome': 'Pedro', 'profissao': 'advogado', 'mensagem': \"👨\\u200d⚖️⚖️ Defina o seu futuro com o Direito! Descubra a justiça e a equidade em cada palavra da lei e inscreva-se no curso 'Construindo seu futuro' hoje mesmo! 📜 #DefinaSeuFuturo\"}, 5: {'nome': 'João', 'profissao': 'programador', 'mensagem': \"👩\\u200d💻💡 Programe o seu futuro com a Programação! Transforme linhas de código em oportunidades ilimitadas, inscrevendo-se no curso 'Construindo seu futuro' agora mesmo! 🚀 #ProgrameSeuFuturo\"}, 6: {'nome': 'Marcos', 'profissao': 'engenheiro', 'mensagem': \"👷\\u200d♂️🏗️ Construa o seu futuro com a Engenharia! Junte-se a nós para aprender as bases sólidas do sucesso na construção, se inscrevendo hoje mesmo no curso 'Construindo seu futuro'! 🌟 #EngenhariaDoFuturo\"}, 7: {'nome': 'Felipe', 'profissao': 'advogado', 'mensagem': \"👨\\u200d⚖️⚖️ Defina o seu futuro com o Direito! Descubra a justiça e a equidade em cada palavra da lei e inscreva-se no curso 'Construindo seu futuro' hoje mesmo! 📜 #DefinaSeuFuturo\"}, 8: {'nome': 'José', 'profissao': 'medico', 'mensagem': \"👩\\u200d⚕️🌡️ Cuide do seu futuro com a Medicina! Explore o incrível mundo da saúde e do bem-estar, inscrevendo-se agora mesmo no curso 'Construindo seu futuro'! 💉 #CuideDoSeuFuturo\"}, 9: {'nome': 'Maria', 'profissao': 'advogado', 'mensagem': \"👨\\u200d⚖️⚖️ Defina o seu futuro com o Direito! Descubra a justiça e a equidade em cada palavra da lei e inscreva-se no curso 'Construindo seu futuro' hoje mesmo! 📜 #DefinaSeuFuturo\"}, 10: {'nome': 'Ana', 'profissao': 'programador', 'mensagem': \"👩\\u200d💻💡 Programe o seu futuro com a Programação! Transforme linhas de código em oportunidades ilimitadas, inscrevendo-se no curso 'Construindo seu futuro' agora mesmo! 🚀 #ProgrameSeuFuturo\"}, 11: {'nome': 'Luíza', 'profissao': 'engenheiro', 'mensagem': \"👷\\u200d♂️🏗️ Construa o seu futuro com a Engenharia! Junte-se a nós para aprender as bases sólidas do sucesso na construção, se inscrevendo hoje mesmo no curso 'Construindo seu futuro'! 🌟 #EngenhariaDoFuturo\"}, 12: {'nome': 'Pedro', 'profissao': 'programador', 'mensagem': \"👩\\u200d💻💡 Programe o seu futuro com a Programação! Transforme linhas de código em oportunidades ilimitadas, inscrevendo-se no curso 'Construindo seu futuro' agora mesmo! 🚀 #ProgrameSeuFuturo\"}, 13: {'nome': 'André', 'profissao': 'advogado', 'mensagem': \"👨\\u200d⚖️⚖️ Defina o seu futuro com o Direito! Descubra a justiça e a equidade em cada palavra da lei e inscreva-se no curso 'Construindo seu futuro' hoje mesmo! 📜 #DefinaSeuFuturo\"}, 14: {'nome': 'Paulo', 'profissao': 'medico', 'mensagem': \"👩\\u200d⚕️🌡️ Cuide do seu futuro com a Medicina! Explore o incrível mundo da saúde e do bem-estar, inscrevendo-se agora mesmo no curso 'Construindo seu futuro'! 💉 #CuideDoSeuFuturo\"}, 15: {'nome': 'Raquel', 'profissao': 'programador', 'mensagem': \"👩\\u200d💻💡 Programe o seu futuro com a Programação! Transforme linhas de código em oportunidades ilimitadas, inscrevendo-se no curso 'Construindo seu futuro' agora mesmo! 🚀 #ProgrameSeuFuturo\"}, 16: {'nome': 'Rebeca', 'profissao': 'advogado', 'mensagem': \"👨\\u200d⚖️⚖️ Defina o seu futuro com o Direito! Descubra a justiça e a equidade em cada palavra da lei e inscreva-se no curso 'Construindo seu futuro' hoje mesmo! 📜 #DefinaSeuFuturo\"}, 17: {'nome': 'Sara', 'profissao': 'engenheiro', 'mensagem': \"👷\\u200d♂️🏗️ Construa o seu futuro com a Engenharia! Junte-se a nós para aprender as bases sólidas do sucesso na construção, se inscrevendo hoje mesmo no curso 'Construindo seu futuro'! 🌟 #EngenhariaDoFuturo\"}, 18: {'nome': 'Ester', 'profissao': 'programador', 'mensagem': \"👩\\u200d💻💡 Programe o seu futuro com a Programação! Transforme linhas de código em oportunidades ilimitadas, inscrevendo-se no curso 'Construindo seu futuro' agora mesmo! 🚀 #ProgrameSeuFuturo\"}, 19: {'nome': 'Joquebede', 'profissao': 'advogado', 'mensagem': \"👨\\u200d⚖️⚖️ Defina o seu futuro com o Direito! Descubra a justiça e a equidade em cada palavra da lei e inscreva-se no curso 'Construindo seu futuro' hoje mesmo! 📜 #DefinaSeuFuturo\"}, 20: {'nome': 'Mateus', 'profissao': 'engenheiro', 'mensagem': \"👷\\u200d♂️🏗️ Construa o seu futuro com a Engenharia! Junte-se a nós para aprender as bases sólidas do sucesso na construção, se inscrevendo hoje mesmo no curso 'Construindo seu futuro'! 🌟 #EngenhariaDoFuturo\"}, 21: {'nome': 'Lucas', 'profissao': 'medico', 'mensagem': \"👩\\u200d⚕️🌡️ Cuide do seu futuro com a Medicina! Explore o incrível mundo da saúde e do bem-estar, inscrevendo-se agora mesmo no curso 'Construindo seu futuro'! 💉 #CuideDoSeuFuturo\"}}\n"
          ]
        }
      ]
    },
    {
      "cell_type": "markdown",
      "source": [
        "# Load(Carregamento)\n",
        "Enfim, as mensagens são atribuidadas de volta ao DataFrame e é gerado um novo arquivo(por questão de segurança) com as mensagens atualizadas"
      ],
      "metadata": {
        "id": "8Mz355yJvyCt"
      }
    },
    {
      "cell_type": "code",
      "source": [
        "#  Atualizando a coluna \"mensagem\" no df com base nas mensagens do dicionário user\n",
        "df['mensagem'] = df['userID'].map(user).apply(lambda x: x['mensagem'] if pd.notna(x) else '')\n",
        "\n",
        "print(df)\n",
        "\n",
        "# Salvar as informações atualizadas do df em um novo arquivo\n",
        "df.to_csv('areas_profissoes_atualizado.csv', index=False)\n",
        "\n",
        "# Salvando informações atualizadas do df no mesmo arquivo\n",
        "#df.to_csv('areas_profissoes.csv', index=False)"
      ],
      "metadata": {
        "colab": {
          "base_uri": "https://localhost:8080/"
        },
        "id": "jRM2l5qMv0tA",
        "outputId": "1687f26d-1d3e-4b52-a7d5-a91170c412f4"
      },
      "execution_count": 78,
      "outputs": [
        {
          "output_type": "stream",
          "name": "stdout",
          "text": [
            "    userID       nome         area  \\\n",
            "0        1    Emanoel  programador   \n",
            "1        2      Alice   engenheiro   \n",
            "2        3      Tiago       medico   \n",
            "3        4      Pedro     advogado   \n",
            "4        5       João  programador   \n",
            "5        6     Marcos   engenheiro   \n",
            "6        7     Felipe     advogado   \n",
            "7        8       José       medico   \n",
            "8        9      Maria     advogado   \n",
            "9       10        Ana  programador   \n",
            "10      11      Luíza   engenheiro   \n",
            "11      12      Pedro  programador   \n",
            "12      13      André     advogado   \n",
            "13      14      Paulo       medico   \n",
            "14      15     Raquel  programador   \n",
            "15      16     Rebeca     advogado   \n",
            "16      17       Sara   engenheiro   \n",
            "17      18      Ester  programador   \n",
            "18      19  Joquebede     advogado   \n",
            "19      20     Mateus   engenheiro   \n",
            "20      21      Lucas       medico   \n",
            "\n",
            "                                             mensagem  \n",
            "0   👩‍💻💡 Programe o seu futuro com a Programação! ...  \n",
            "1   👷‍♂️🏗️ Construa o seu futuro com a Engenharia!...  \n",
            "2   👩‍⚕️🌡️ Cuide do seu futuro com a Medicina! Exp...  \n",
            "3   👨‍⚖️⚖️ Defina o seu futuro com o Direito! Desc...  \n",
            "4   👩‍💻💡 Programe o seu futuro com a Programação! ...  \n",
            "5   👷‍♂️🏗️ Construa o seu futuro com a Engenharia!...  \n",
            "6   👨‍⚖️⚖️ Defina o seu futuro com o Direito! Desc...  \n",
            "7   👩‍⚕️🌡️ Cuide do seu futuro com a Medicina! Exp...  \n",
            "8   👨‍⚖️⚖️ Defina o seu futuro com o Direito! Desc...  \n",
            "9   👩‍💻💡 Programe o seu futuro com a Programação! ...  \n",
            "10  👷‍♂️🏗️ Construa o seu futuro com a Engenharia!...  \n",
            "11  👩‍💻💡 Programe o seu futuro com a Programação! ...  \n",
            "12  👨‍⚖️⚖️ Defina o seu futuro com o Direito! Desc...  \n",
            "13  👩‍⚕️🌡️ Cuide do seu futuro com a Medicina! Exp...  \n",
            "14  👩‍💻💡 Programe o seu futuro com a Programação! ...  \n",
            "15  👨‍⚖️⚖️ Defina o seu futuro com o Direito! Desc...  \n",
            "16  👷‍♂️🏗️ Construa o seu futuro com a Engenharia!...  \n",
            "17  👩‍💻💡 Programe o seu futuro com a Programação! ...  \n",
            "18  👨‍⚖️⚖️ Defina o seu futuro com o Direito! Desc...  \n",
            "19  👷‍♂️🏗️ Construa o seu futuro com a Engenharia!...  \n",
            "20  👩‍⚕️🌡️ Cuide do seu futuro com a Medicina! Exp...  \n"
          ]
        }
      ]
    }
  ]
}